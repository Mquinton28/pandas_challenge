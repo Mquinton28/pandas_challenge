{
 "cells": [
  {
   "cell_type": "code",
   "execution_count": 1,
   "metadata": {},
   "outputs": [],
   "source": [
    "# Dependencies\n",
    "import pandas as pd\n",
    "import numpy as np"
   ]
  },
  {
   "cell_type": "code",
   "execution_count": null,
   "metadata": {},
   "outputs": [],
   "source": [
    "# load in file\n",
    "pycityschools_file = \"Resources/schools_complete.csv\"\n",
    "student_file = \"Resources/students_complete.csv\""
   ]
  },
  {
   "cell_type": "code",
   "execution_count": null,
   "metadata": {},
   "outputs": [],
   "source": [
    "# Read School and Student Data File and store into Pandas DataFrames\n",
    "pycityschools_data_df = pd.read_csv(pycityschools_file)\n",
    "student_data_df = pd.read_csv(student_file)\n",
    "\n",
    "pycityschools_data_df.head()\n",
    "student_data_df.head()"
   ]
  },
  {
   "cell_type": "code",
   "execution_count": null,
   "metadata": {},
   "outputs": [],
   "source": [
    "pycityschools_data_complete = pd.merge(student_data_df, pycityschools_data_df, \n",
    "                                       on=[\"school_name\", \"school_name\"], how=\"left\")\n",
    "\n",
    "pycityschools_data_complete.head()"
   ]
  },
  {
   "cell_type": "markdown",
   "metadata": {},
   "source": [
    "# District Summary"
   ]
  },
  {
   "cell_type": "code",
   "execution_count": null,
   "metadata": {},
   "outputs": [],
   "source": [
    "# Count total schools\n",
    "total_schools = len(pycityschools_data_complete[\"School ID\"].unique())\n",
    "total_schools\n"
   ]
  },
  {
   "cell_type": "code",
   "execution_count": null,
   "metadata": {},
   "outputs": [],
   "source": [
    "# Calculate the total number of students\n",
    "total_students = len(pycityschools_data_complete[\"student_name\"].unique())\n",
    "total_students"
   ]
  },
  {
   "cell_type": "code",
   "execution_count": null,
   "metadata": {},
   "outputs": [],
   "source": [
    "# Calculate Total Budget\n",
    "total_budget = pycityschools_data_complete[\"budget\"].sum()\n",
    "total_budget"
   ]
  },
  {
   "cell_type": "code",
   "execution_count": null,
   "metadata": {},
   "outputs": [],
   "source": [
    "# Calculate the average math score\n",
    "average_mathscore = round(pycityschools_data_complete[\"math_score\"].mean(), 2)\n",
    "average_mathscore"
   ]
  },
  {
   "cell_type": "code",
   "execution_count": null,
   "metadata": {},
   "outputs": [],
   "source": [
    "# Calculate the average reading score\n",
    "average_readingscore = round(pycityschools_data_complete[\"reading_score\"].mean(), 2)\n",
    "average_readingscore"
   ]
  },
  {
   "cell_type": "code",
   "execution_count": null,
   "metadata": {},
   "outputs": [],
   "source": [
    "# Calculate the percentage of students with a passing math score (70 or greater)\n",
    "unique_math_passing = len(pycityschools_data_complete.loc[pycityschools_data_complete[\"math_score\"] >=70][\"student_name\"].unique())\n",
    "percent_math_passing = round((unique_math_passing/total_students)*100, 2)\n",
    "percent_math_passing"
   ]
  },
  {
   "cell_type": "code",
   "execution_count": null,
   "metadata": {},
   "outputs": [],
   "source": [
    "# Calculate the percentage of students with a passing reading score (70 or greater)\n",
    "unique_reading_passing = len(pycityschools_data_complete.loc[pycityschools_data_complete[\"reading_score\"] >=70][\"student_name\"].unique())\n",
    "percent_reading_passing = round((unique_reading_passing/total_students)*100, 2)\n",
    "percent_reading_passing"
   ]
  },
  {
   "cell_type": "code",
   "execution_count": null,
   "metadata": {},
   "outputs": [],
   "source": [
    "# Calculate the percentage of students who passed math and reading (% Overall Passing)\n",
    "overall_passing = round((percent_reading_passing + percent_math_passing) / 2, 2)\n",
    "overall_passing"
   ]
  },
  {
   "cell_type": "code",
   "execution_count": null,
   "metadata": {},
   "outputs": [],
   "source": [
    "# Create a dataframe to hold the above results\n",
    "summary_df = pd.DataFrame({\"Total Schools\": [total_schools],\n",
    "                          \"Total Students\": [total_students],\n",
    "                          \"Total Budget\": [total_budget],\n",
    "                          \"Average Math Score\": [average_mathscore],\n",
    "                          \"Average Reading Score\": [average_readingscore],\n",
    "                          \"% of Students with Passing Math Score\": [percent_math_passing],\n",
    "                          \"% of Students with Passing Reading Score\": [percent_reading_passing],\n",
    "                          \"% of students with Passing Reading and Math Score\": [overall_passing]\n",
    "                          })\n",
    "summary_df"
   ]
  },
  {
   "cell_type": "code",
   "execution_count": null,
   "metadata": {},
   "outputs": [],
   "source": [
    "# Give the displayed data cleaner formatting\n",
    "summary_df[\"Total Students\"] = summary_df[\"Total Students\"].map(\"{:,.2f}\".format)\n",
    "summary_df[\"Total Budget\"] = summary_df[\"Total Budget\"].map(\"{:,.2f}\".format)\n",
    "summary_df[\"Average Math Score\"] = summary_df[\"Average Math Score\"].map(\"%{:,.2f}\".format)\n",
    "summary_df[\"Average Reading Score\"] = summary_df[\"Average Reading Score\"].map(\"%{:,.2f}\".format)\n",
    "summary_df"
   ]
  },
  {
   "cell_type": "markdown",
   "metadata": {},
   "source": [
    "# School Summary"
   ]
  },
  {
   "cell_type": "code",
   "execution_count": null,
   "metadata": {},
   "outputs": [],
   "source": [
    "# Create an overview table that summarizes key metrics about each school\n",
    "    # School Name\n",
    "    # School Type\n",
    "    # Total Students\n",
    "    # Total School Budget\n",
    "    # Per Student Budget\n",
    "    # Average Math Score\n",
    "    # Average Reading Score\n",
    "    # % Passing Math\n",
    "    # % Passing Reading\n",
    "    # % Overall Passing (The percentage of students that passed math and reading.)\n",
    "    \n",
    "# Create a dataframe to hold the above results"
   ]
  },
  {
   "cell_type": "code",
   "execution_count": null,
   "metadata": {},
   "outputs": [],
   "source": [
    "# schools_overview_df = pd.DataFrames({\"School Name\": school_name,\n",
    "                                   # \"School Type\": type,\n",
    "                                    # \"Total Students\": size,\n",
    "                                    # \"Total School Budget\": }\n",
    "                                    \n",
    "                                    # \"Total Unique Authors\": [author_count],\n",
    "                              # \"Earliest Year\": earliest_year,\n",
    "                              # \"Latest Year\": latest_year,\n",
    "                              # \"Total Reviews\": total_reviews})"
   ]
  },
  {
   "cell_type": "markdown",
   "metadata": {},
   "source": [
    "# Top Performing Schools (By % Overall Passing)"
   ]
  },
  {
   "cell_type": "markdown",
   "metadata": {},
   "source": [
    "# Bad Performing Schools (By % Overall Passing)"
   ]
  },
  {
   "cell_type": "markdown",
   "metadata": {},
   "source": [
    "# Math Scores by Grade"
   ]
  },
  {
   "cell_type": "markdown",
   "metadata": {},
   "source": [
    "# Reading Score by Grade"
   ]
  },
  {
   "cell_type": "markdown",
   "metadata": {},
   "source": [
    "# Scores by School Spending"
   ]
  },
  {
   "cell_type": "markdown",
   "metadata": {},
   "source": [
    "# Scores by School Size"
   ]
  },
  {
   "cell_type": "markdown",
   "metadata": {},
   "source": [
    "# Scores by School Type"
   ]
  }
 ],
 "metadata": {
  "kernelspec": {
   "display_name": "Python [conda env:PythonData]",
   "language": "python",
   "name": "conda-env-PythonData-py"
  },
  "language_info": {
   "codemirror_mode": {
    "name": "ipython",
    "version": 3
   },
   "file_extension": ".py",
   "mimetype": "text/x-python",
   "name": "python",
   "nbconvert_exporter": "python",
   "pygments_lexer": "ipython3",
   "version": "3.8.3"
  }
 },
 "nbformat": 4,
 "nbformat_minor": 4
}
